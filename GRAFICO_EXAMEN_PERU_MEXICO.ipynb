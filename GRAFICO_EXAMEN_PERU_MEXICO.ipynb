{
  "nbformat": 4,
  "nbformat_minor": 0,
  "metadata": {
    "colab": {
      "provenance": [],
      "toc_visible": true,
      "mount_file_id": "1RjKXj-SKidWhGwqbXD3bt-zIw1v1CO7w",
      "authorship_tag": "ABX9TyO2wN0WguTKYFV6omFyx504",
      "include_colab_link": true
    },
    "kernelspec": {
      "name": "python3",
      "display_name": "Python 3"
    },
    "language_info": {
      "name": "python"
    }
  },
  "cells": [
    {
      "cell_type": "markdown",
      "metadata": {
        "id": "view-in-github",
        "colab_type": "text"
      },
      "source": [
        "<a href=\"https://colab.research.google.com/github/ytucayasi/EXAMEN-COLAB-PERU-Y-MEXICO/blob/main/GRAFICO_EXAMEN_PERU_MEXICO.ipynb\" target=\"_parent\"><img src=\"https://colab.research.google.com/assets/colab-badge.svg\" alt=\"Open In Colab\"/></a>"
      ]
    },
    {
      "cell_type": "markdown",
      "source": [
        "#Producción de plata de Perú y México de las últimas decadas"
      ],
      "metadata": {
        "id": "4hIF_TcscK_g"
      }
    },
    {
      "cell_type": "code",
      "source": [
        "# Importa la biblioteca pandas y la abrevia como pd\n",
        "import pandas as pd\n",
        "\n",
        "# Importa la biblioteca pyplot de matplotlib y la abrevia como plt\n",
        "import matplotlib.pyplot as plt\n",
        "\n",
        "# Importa la biblioteca bar_chart_race y la abrevia como bcr\n",
        "import bar_chart_race as bcr\n",
        "\n",
        "# Lee el archivo CSV de una URL y lo almacena en un DataFrame llamado df\n",
        "df = pd.read_csv(\"https://docs.google.com/spreadsheets/d/e/2PACX-1vRpjVTFqIaJbNs77E7Be9yjM6Ab5EDRA8WwHU-YLrRGnonmSQd0e_HyU69S-ewbKHlBkfeXSuGslwZe/pub?gid=1906621403&single=true&output=csv\", index_col=\"Fecha\")\n",
        "\n",
        "bcr.bar_chart_race(df=df, title=\"Número de exportaciones por Año\", filename=\"peruymexico.mp4\")\n"
      ],
      "metadata": {
        "colab": {
          "base_uri": "https://localhost:8080/"
        },
        "id": "tI1uaKkkSY48",
        "outputId": "ef2500e9-a41e-4f1b-c6f6-fb3f10a7fc29"
      },
      "execution_count": 8,
      "outputs": [
        {
          "output_type": "stream",
          "name": "stderr",
          "text": [
            "/usr/local/lib/python3.10/dist-packages/bar_chart_race/_make_chart.py:286: UserWarning: FixedFormatter should only be used together with FixedLocator\n",
            "  ax.set_yticklabels(self.df_values.columns)\n",
            "/usr/local/lib/python3.10/dist-packages/bar_chart_race/_make_chart.py:287: UserWarning: FixedFormatter should only be used together with FixedLocator\n",
            "  ax.set_xticklabels([max_val] * len(ax.get_xticks()))\n"
          ]
        }
      ]
    }
  ]
}